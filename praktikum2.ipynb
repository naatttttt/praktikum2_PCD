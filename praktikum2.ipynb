{
 "cells": [
  {
   "cell_type": "markdown",
   "id": "1cea1c58-c98f-43a5-bc79-e6cc6060eacc",
   "metadata": {},
   "source": [
    "## Import Library"
   ]
  },
  {
   "cell_type": "code",
   "execution_count": null,
   "id": "ffbc96cb-111f-421f-9913-ac23b1779396",
   "metadata": {},
   "outputs": [],
   "source": [
    "import cv2\n",
    "import numpy as np"
   ]
  },
  {
   "cell_type": "markdown",
   "id": "426fa80a-985d-4ffb-b113-ebae6349f7f7",
   "metadata": {},
   "source": [
    "## Membaca Citra"
   ]
  },
  {
   "cell_type": "code",
   "execution_count": null,
   "id": "b09fb745-8ff0-452d-91ea-5ae5fcb4fb21",
   "metadata": {},
   "outputs": [],
   "source": [
    "citra = cv2.imread(\"orange.jpg\")\n",
    "\n",
    "cv2.imshow(\"citra asli\", citra)\n",
    "cv2.waitKey()\n",
    "cv2.destroyAllWindows()"
   ]
  },
  {
   "cell_type": "code",
   "execution_count": null,
   "id": "64ddebdc-9f6c-43bb-bf90-3103ff2bdce1",
   "metadata": {},
   "outputs": [],
   "source": [
    "print(citra.shape)\n",
    "print(citra.dtype)"
   ]
  },
  {
   "cell_type": "code",
   "execution_count": null,
   "id": "58ac7f46-7552-4706-ac63-98b27114c964",
   "metadata": {},
   "outputs": [],
   "source": [
    "b = citra[:,:,0]\n",
    "g = citra[:,:,1]\n",
    "r = citra[:,:,2]"
   ]
  },
  {
   "cell_type": "code",
   "execution_count": null,
   "id": "1777aa14-6f20-4af5-a2a3-857abc07e151",
   "metadata": {},
   "outputs": [],
   "source": [
    "panjang = len(citra)\n",
    "lebar = len(citra[0])\n",
    "\n",
    "citra_gray = np.zeros((panjang, lebar))\n",
    "\n",
    "for i in range (panjang):\n",
    "    for j in range (lebar):\n",
    "        citra_gray[i, j] = 0.2989 * r[i, j] + 0.587 * g[i, j] + 0.1141 * b[i, j] \n",
    "\n",
    "citra_gray = citra_gray.astype(np.uint8)\n",
    "\n",
    "cv2.imshow(\"citra grayscale\", citra_gray)\n",
    "cv2.waitKey()\n",
    "cv2.destroyAllWindows()"
   ]
  },
  {
   "cell_type": "markdown",
   "id": "81afe5e7-23ee-4059-901e-aee6768cec4a",
   "metadata": {},
   "source": [
    "## Grayscale to Binary"
   ]
  },
  {
   "cell_type": "code",
   "execution_count": 9,
   "id": "0f3f5fdd-47e2-4f11-b79b-7430b6c61cfd",
   "metadata": {},
   "outputs": [
    {
     "ename": "SyntaxError",
     "evalue": "invalid syntax (3890955974.py, line 6)",
     "output_type": "error",
     "traceback": [
      "  \u001b[36mCell\u001b[39m\u001b[36m \u001b[39m\u001b[32mIn[9]\u001b[39m\u001b[32m, line 6\u001b[39m\n\u001b[31m    \u001b[39m\u001b[31mcitra_biner = np zeros((panjang, lebar))\u001b[39m\n                     ^\n\u001b[31mSyntaxError\u001b[39m\u001b[31m:\u001b[39m invalid syntax\n"
     ]
    }
   ],
   "source": [
    "panjang = len(citra)\n",
    "lebar = len(citra[0])\n",
    "\n",
    "ambang = 90\n",
    "\n",
    "citra_biner = np zeros((panjang, lebar))\n",
    "\n",
    "for i in range (panjang): #0 - 544\n",
    "    for j in range (lebar): #0 - 960\n",
    "        if citra_gray [i, j] >=ambang:\n",
    "            citra_biner[i, j] = 1 #putih\n",
    "        else:\n",
    "            citra_biner[i, j] = 0 #hitam\n",
    "\n",
    "cv.imshow(\"citra binary\", citra_biner)\n",
    "cv2.waitKey()\n",
    "cv2.destroyAllWindows()"
   ]
  },
  {
   "cell_type": "code",
   "execution_count": 10,
   "id": "d2770898-2e2e-411f-9795-63ba92ccd0ea",
   "metadata": {},
   "outputs": [
    {
     "ename": "NameError",
     "evalue": "name 'cv' is not defined",
     "output_type": "error",
     "traceback": [
      "\u001b[31m---------------------------------------------------------------------------\u001b[39m",
      "\u001b[31mNameError\u001b[39m                                 Traceback (most recent call last)",
      "\u001b[36mCell\u001b[39m\u001b[36m \u001b[39m\u001b[32mIn[10]\u001b[39m\u001b[32m, line 15\u001b[39m\n\u001b[32m     12\u001b[39m         \u001b[38;5;28;01melse\u001b[39;00m:\n\u001b[32m     13\u001b[39m             citra_biner[i, j] = \u001b[32m0\u001b[39m \u001b[38;5;66;03m#hitam\u001b[39;00m\n\u001b[32m---> \u001b[39m\u001b[32m15\u001b[39m \u001b[43mcv\u001b[49m.imshow(\u001b[33m\"\u001b[39m\u001b[33mcitra binary\u001b[39m\u001b[33m\"\u001b[39m, citra_biner)\n\u001b[32m     16\u001b[39m cv2.waitKey()\n\u001b[32m     17\u001b[39m cv2.destroyAllWindows()\n",
      "\u001b[31mNameError\u001b[39m: name 'cv' is not defined"
     ]
    }
   ],
   "source": [
    "panjang = len(citra)\n",
    "lebar = len(citra[0])\n",
    "\n",
    "ambang = 90\n",
    "\n",
    "citra_biner = np.zeros((panjang, lebar))\n",
    "\n",
    "for i in range (panjang): #0 - 544\n",
    "    for j in range (lebar): #0 - 960\n",
    "        if citra_gray [i, j] >=ambang:\n",
    "            citra_biner[i, j] = 1 #putih\n",
    "        else:\n",
    "            citra_biner[i, j] = 0 #hitam\n",
    "\n",
    "cv.imshow(\"citra binary\", citra_biner)\n",
    "cv2.waitKey()\n",
    "cv2.destroyAllWindows()"
   ]
  },
  {
   "cell_type": "code",
   "execution_count": 18,
   "id": "8ae57b33-5400-4d3c-a635-4942fa19cb4e",
   "metadata": {},
   "outputs": [],
   "source": [
    "panjang = len(citra)\n",
    "lebar = len(citra[0])\n",
    "\n",
    "ambang = 90\n",
    "\n",
    "citra_biner = np.zeros((panjang, lebar))\n",
    "\n",
    "for i in range (panjang): #0 - 544\n",
    "    for j in range (lebar): #0 - 960\n",
    "        if citra_gray [i, j] >=ambang:\n",
    "            citra_biner[i, j] = 1 #putih\n",
    "        else:\n",
    "            citra_biner[i, j] = 0 #hitam\n",
    "\n",
    "cv2.imshow(\"citra binary\", citra_biner)\n",
    "cv2.waitKey()\n",
    "cv2.destroyAllWindows()"
   ]
  },
  {
   "cell_type": "code",
   "execution_count": null,
   "id": "581e2a93-2dbd-40a5-9ac2-1066e260e4a4",
   "metadata": {},
   "outputs": [],
   "source": []
  }
 ],
 "metadata": {
  "kernelspec": {
   "display_name": "Python 3 (ipykernel)",
   "language": "python",
   "name": "python3"
  },
  "language_info": {
   "codemirror_mode": {
    "name": "ipython",
    "version": 3
   },
   "file_extension": ".py",
   "mimetype": "text/x-python",
   "name": "python",
   "nbconvert_exporter": "python",
   "pygments_lexer": "ipython3",
   "version": "3.13.2"
  }
 },
 "nbformat": 4,
 "nbformat_minor": 5
}
